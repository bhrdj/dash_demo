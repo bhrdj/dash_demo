{
 "cells": [
  {
   "cell_type": "code",
   "execution_count": null,
   "id": "3c60a5b3",
   "metadata": {},
   "outputs": [],
   "source": [
    "from sktime.datasets import load_longley\n",
    "from sktime.forecasting.naive import NaiveForecaster\n",
    "from sktime.forecasting.compose import ForecastingPipeline\n",
    "from sktime.transformations.series.impute import Imputer\n",
    "from sktime.transformations.series.adapt import TabularToSeriesAdaptor\n",
    "from sktime.forecasting.base import ForecastingHorizon\n",
    "from sktime.forecasting.model_selection import temporal_train_test_split\n",
    "from sklearn.preprocessing import MinMaxScaler\n",
    "y, X = load_longley()\n",
    "y_train, _, X_train, X_test = temporal_train_test_split(y, X)\n",
    "fh = ForecastingHorizon(X_test.index, is_relative=False)\n",
    "pipe = ForecastingPipeline(steps=[\n",
    "    (\"imputer\", Imputer(method=\"mean\")),\n",
    "    (\"minmaxscaler\", TabularToSeriesAdaptor(MinMaxScaler())),\n",
    "    (\"forecaster\", NaiveForecaster(strategy=\"drift\"))])\n",
    "pipe.fit(y_train, X_train)\n",
    "ForecastingPipeline(...)\n",
    "y_pred = pipe.predict(fh=fh, X=X_test)"
   ]
  }
 ],
 "metadata": {
  "kernelspec": {
   "display_name": "Python 3 (ipykernel)",
   "language": "python",
   "name": "python3"
  },
  "language_info": {
   "codemirror_mode": {
    "name": "ipython",
    "version": 3
   },
   "file_extension": ".py",
   "mimetype": "text/x-python",
   "name": "python",
   "nbconvert_exporter": "python",
   "pygments_lexer": "ipython3",
   "version": "3.9.7"
  }
 },
 "nbformat": 4,
 "nbformat_minor": 5
}
