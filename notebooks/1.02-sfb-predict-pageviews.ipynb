{
 "cells": [
  {
   "cell_type": "code",
   "execution_count": 139,
   "id": "01816a3f",
   "metadata": {
    "code_folding": []
   },
   "outputs": [],
   "source": [
    "# imports\n",
    "import time, os, numpy as np\n",
    "import pandas as pd, datetime as dt\n",
    "import dateutil.relativedelta as reladelt\n",
    "\n",
    "import plotly.express as px, plotly\n",
    "from plotly.subplots import make_subplots\n",
    "import plotly.graph_objects as go\n",
    "\n",
    "import matplotlib.pyplot as plt\n",
    "\n",
    "# from sklearn.pipeline import Pipeline\n",
    "\n",
    "from sktime.forecasting.base import ForecastingHorizon\n",
    "from sktime.forecasting.sarimax import SARIMAX\n",
    "\n",
    "from sktime.forecasting.compose import ForecastingPipeline\n",
    "from sktime.transformations.series.impute import Imputer\n",
    "from sktime.transformations.series.adapt import TabularToSeriesAdaptor\n",
    "from sktime.forecasting.base import ForecastingHorizon\n",
    "from sktime.forecasting.model_selection import temporal_train_test_split\n",
    "from sklearn.preprocessing import MinMaxScaler\n"
   ]
  },
  {
   "cell_type": "code",
   "execution_count": 14,
   "id": "66da4b19",
   "metadata": {
    "code_folding": []
   },
   "outputs": [],
   "source": [
    "# list article titles for querying api\n",
    "article_pairs = [\n",
    "    ('Rwanda', 'Rwanda'),\n",
    "    ('Paul_Kagame', 'Paul_Kagame'),\n",
    "    ('Umuganda', 'Umuganda'),\n",
    "    ('Uburezi_mu_Rwanda', 'Education_in_Rwanda'),\n",
    "    ('Kigali', 'Kigali'),\n",
    "    ('Ubukungu_bw%27U_Rwanda', 'Economy_of_Rwanda'),\n",
    "    ('Ikinyarwanda', 'Kinyarwanda'),\n",
    "    ('Rose_Kabuye', 'Rose_Kabuye'),\n",
    "    ('Louise_Mushikiwabo', 'Louise_Mushikiwabo'),\n",
    "    ('Agnes_Binagwaho', 'Agnes_Binagwaho'),\n",
    "    ('Paul_Rusesabagina', 'Paul_Rusesabagina')\n",
    "]\n",
    "rw_articles = [i for i,j in article_pairs]\n",
    "en_articles = [j for i,j in article_pairs]\n",
    "article_tups = [('rw', i) for i in rw_articles] + [('en', i) for i in en_articles]\n",
    "article_idx = pd.Index(article_tups)\n",
    "\n",
    "# read_csv the time series and rearrange multiindex\n",
    "panel = pd.read_csv('pageview_table.csv', header=[0,1], skipinitialspace=True, index_col=0)\n",
    "l = []\n",
    "num_articles = panel.shape[1]//2\n",
    "for i in range(num_articles*2):\n",
    "    article_num = i % num_articles\n",
    "    l.append((article_num, article_tups[i][0], article_tups[i][1]))\n",
    "panel.columns = pd.Index(l)\n",
    "panel.sort_index(axis=1, level=[0,1], inplace=True)\n",
    "\n",
    "# prep the Paul_Kagame pageviews for plotting\n",
    "pk = panel[0]\n",
    "pk = pk.droplevel(1,axis=1)"
   ]
  },
  {
   "cell_type": "code",
   "execution_count": null,
   "id": "d72b4dfc",
   "metadata": {},
   "outputs": [],
   "source": []
  },
  {
   "cell_type": "code",
   "execution_count": 140,
   "id": "f11cd1a7",
   "metadata": {},
   "outputs": [
    {
     "data": {
      "text/plain": [
       "Index(['2017-01-01', '2017-01-02', '2017-01-03', '2017-01-04', '2017-01-05',\n",
       "       '2017-01-06', '2017-01-07', '2017-01-08', '2017-01-09', '2017-01-10',\n",
       "       ...\n",
       "       '2022-05-29', '2022-05-30', '2022-05-31', '2022-06-01', '2022-06-02',\n",
       "       '2022-06-03', '2022-06-04', '2022-06-05', '2022-06-06', '2022-06-07'],\n",
       "      dtype='object', length=1984)"
      ]
     },
     "execution_count": 140,
     "metadata": {},
     "output_type": "execute_result"
    }
   ],
   "source": [
    "# en\n",
    "days = pk.shape[0]\n",
    "tr_nobs = 730\n",
    "preds = pd.Series(np.nan, index=pk.index)\n",
    "for i in range(8, days - tr_nobs):\n",
    "    period_tr = pd.PeriodIndex(pk_tr.index, freq='D')\n",
    "    y_tr = pk.iloc[i: i+tr_nobs].en    # only using en as the y for now\n",
    "    y_fh = pk.iloc[i+tr_nobs: i+tr_nobs+1].en\n",
    "    X_tr = pk.iloc[i-1: i+tr_nobs-1].rw   # X is lagged 1 day  not yet, need to use shift\n",
    "    X_fh = pk.iloc[i+tr_nobs-1: i+tr_nobs].rw\n",
    "    \n",
    "    d = {'y_tr':y_tr, 'y_fh':y_te, 'X_tr':X_tr, 'X_te':X_te}\n",
    "    for j in d:\n",
    "        period_idx = pd.PeriodIndex(d[j].index, freq='D')\n",
    "        d[j] = pd.Series(d[j].tolist(), index=period_idx)\n",
    "    \n",
    "    idx_te = pd.PeriodIndex(yfh.index, freq='D')\n",
    "    fh = ForecastingHorizon(fh_period_idx, is_relative=False)\n",
    "    "
   ]
  },
  {
   "cell_type": "code",
   "execution_count": null,
   "id": "9393d2bd",
   "metadata": {},
   "outputs": [],
   "source": []
  },
  {
   "cell_type": "code",
   "execution_count": 104,
   "id": "00b92286",
   "metadata": {},
   "outputs": [
    {
     "data": {
      "text/plain": [
       "((1984,), (1984, 2))"
      ]
     },
     "execution_count": 104,
     "metadata": {},
     "output_type": "execute_result"
    }
   ],
   "source": [
    "y.shape, pk.shape"
   ]
  },
  {
   "cell_type": "code",
   "execution_count": null,
   "id": "a9227151",
   "metadata": {},
   "outputs": [],
   "source": [
    "# step 1: get y\n",
    "nobs_tr = int(pk.shape[0]//1.05)\n",
    "ytr = pk.en.iloc[:nobs_tr]\n",
    "ytr_period_idx = pd.PeriodIndex(ytr.index, freq='D')\n",
    "y = pd.Series(pk.en[:nobs_tr].tolist(), index=ytr_period_idx)\n",
    "\n",
    "# step 2: specifying forecasting horizon\n",
    "# fh_period_idx = pd.PeriodIndex(pk.index, freq='D')\n",
    "yfh = pk.en.iloc[nobs_tr:nobs_tr+1]\n",
    "fh_period_idx = pd.PeriodIndex(yfh.index, freq='D')\n",
    "fh = ForecastingHorizon(fh_period_idx, is_relative=False)\n",
    "fh\n",
    "\n",
    "# step 3: specifying the forecasting algorithm\n",
    "# forecaster = NaiveForecaster(strategy=\"last\", sp=12)\n",
    "forecaster = (\n",
    "    order=(1, 0, 2), trend=None, enforce_stationarity=False\n",
    ")\n",
    "\n",
    "# step 4: fitting the forecaster\n",
    "forecaster.fit(y)\n",
    "\n",
    "# step 5: querying predictions\n",
    "y_pred = forecaster.predict(fh)"
   ]
  },
  {
   "cell_type": "code",
   "execution_count": 132,
   "id": "1da8855c",
   "metadata": {},
   "outputs": [],
   "source": [
    "y_pred = forecaster.predict(fh)"
   ]
  },
  {
   "cell_type": "code",
   "execution_count": 137,
   "id": "0d6d1df8",
   "metadata": {},
   "outputs": [
    {
     "data": {
      "text/plain": [
       "(2022-03-05    3632.072068\n",
       " Freq: D, dtype: float64,\n",
       " 2017-01-01    2711.0\n",
       " 2017-01-02    2911.0\n",
       " 2017-01-03    3292.0\n",
       " 2017-01-04    2909.0\n",
       " 2017-01-05    2930.0\n",
       "                ...  \n",
       " 2022-02-28    3686.0\n",
       " 2022-03-01    3924.0\n",
       " 2022-03-02    3847.0\n",
       " 2022-03-03    3705.0\n",
       " 2022-03-04    3382.0\n",
       " Freq: D, Length: 1889, dtype: float64)"
      ]
     },
     "execution_count": 137,
     "metadata": {},
     "output_type": "execute_result"
    }
   ],
   "source": [
    "y_pred, y"
   ]
  },
  {
   "cell_type": "code",
   "execution_count": 133,
   "id": "9545a92b",
   "metadata": {},
   "outputs": [
    {
     "data": {
      "text/plain": [
       "((1,), (1889,))"
      ]
     },
     "execution_count": 133,
     "metadata": {},
     "output_type": "execute_result"
    }
   ],
   "source": [
    "y_pred.shape, y.shape"
   ]
  },
  {
   "cell_type": "code",
   "execution_count": null,
   "id": "d746f4a2",
   "metadata": {},
   "outputs": [],
   "source": [
    "y_pred.plot()"
   ]
  },
  {
   "cell_type": "code",
   "execution_count": 135,
   "id": "2a06d07b",
   "metadata": {},
   "outputs": [
    {
     "data": {
      "text/plain": [
       "<AxesSubplot:>"
      ]
     },
     "execution_count": 135,
     "metadata": {},
     "output_type": "execute_result"
    },
    {
     "data": {
      "image/png": "[encoded data removed]",
      "text/plain": [
       "<Figure size 432x288 with 1 Axes>"
      ]
     },
     "metadata": {
      "needs_background": "light"
     },
     "output_type": "display_data"
    }
   ],
   "source": [
    "y.plot()"
   ]
  },
  {
   "cell_type": "code",
   "execution_count": null,
   "id": "f2c533b4",
   "metadata": {},
   "outputs": [],
   "source": []
  }
 ],
 "metadata": {
  "kernelspec": {
   "display_name": "Python 3 (ipykernel)",
   "language": "python",
   "name": "python3"
  },
  "language_info": {
   "codemirror_mode": {
    "name": "ipython",
    "version": 3
   },
   "file_extension": ".py",
   "mimetype": "text/x-python",
   "name": "python",
   "nbconvert_exporter": "python",
   "pygments_lexer": "ipython3",
   "version": "3.9.7"
  }
 },
 "nbformat": 4,
 "nbformat_minor": 5
}
